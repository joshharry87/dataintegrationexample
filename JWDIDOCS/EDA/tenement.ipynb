{
 "cells": [
  {
   "cell_type": "markdown",
   "metadata": {},
   "source": []
  },
  {
   "cell_type": "code",
   "execution_count": 4,
   "metadata": {},
   "outputs": [],
   "source": [
    "import pandas as pd\n",
    "import geopandas as gp \n",
    "\n"
   ]
  },
  {
   "cell_type": "code",
   "execution_count": 5,
   "metadata": {},
   "outputs": [
    {
     "name": "stderr",
     "output_type": "stream",
     "text": [
      "Skipping field granttime: unsupported OGR type: 10\n",
      "Skipping field starttime: unsupported OGR type: 10\n",
      "Skipping field endtime: unsupported OGR type: 10\n"
     ]
    }
   ],
   "source": [
    "data = gp.read_file(\"Mining_Tenements_DMIRS_003_WA_GDA2020_Public.geojson\")"
   ]
  },
  {
   "cell_type": "code",
   "execution_count": 6,
   "metadata": {},
   "outputs": [
    {
     "data": {
      "text/html": [
       "<div>\n",
       "<style scoped>\n",
       "    .dataframe tbody tr th:only-of-type {\n",
       "        vertical-align: middle;\n",
       "    }\n",
       "\n",
       "    .dataframe tbody tr th {\n",
       "        vertical-align: top;\n",
       "    }\n",
       "\n",
       "    .dataframe thead th {\n",
       "        text-align: right;\n",
       "    }\n",
       "</style>\n",
       "<table border=\"1\" class=\"dataframe\">\n",
       "  <thead>\n",
       "    <tr style=\"text-align: right;\">\n",
       "      <th></th>\n",
       "      <th>gid</th>\n",
       "      <th>tenid</th>\n",
       "      <th>type</th>\n",
       "      <th>survstatus</th>\n",
       "      <th>tenstatus</th>\n",
       "      <th>holdercnt</th>\n",
       "      <th>holder1</th>\n",
       "      <th>addr1</th>\n",
       "      <th>holder2</th>\n",
       "      <th>addr2</th>\n",
       "      <th>...</th>\n",
       "      <th>addr9</th>\n",
       "      <th>fmt_tenid</th>\n",
       "      <th>legal_area</th>\n",
       "      <th>unit_of_me</th>\n",
       "      <th>special_in</th>\n",
       "      <th>extract_da</th>\n",
       "      <th>grantdate</th>\n",
       "      <th>startdate</th>\n",
       "      <th>enddate</th>\n",
       "      <th>geometry</th>\n",
       "    </tr>\n",
       "  </thead>\n",
       "  <tbody>\n",
       "    <tr>\n",
       "      <th>0</th>\n",
       "      <td>32021428</td>\n",
       "      <td>CML1200448</td>\n",
       "      <td>COAL MINING LEASE</td>\n",
       "      <td>SURVEYED</td>\n",
       "      <td>LIVE</td>\n",
       "      <td>1.0</td>\n",
       "      <td>THE GRIFFIN COAL MINING COMPANY PTY LIMITED</td>\n",
       "      <td>C/- TG MINING TITLE SERVICES PTY LTD,PO BOX Z5...</td>\n",
       "      <td></td>\n",
       "      <td></td>\n",
       "      <td>...</td>\n",
       "      <td></td>\n",
       "      <td>CML 12/448</td>\n",
       "      <td>71.60</td>\n",
       "      <td>HA.</td>\n",
       "      <td></td>\n",
       "      <td>2025-02-25 04:10:07+00:00</td>\n",
       "      <td>1952/02/28 00:00:01+00</td>\n",
       "      <td>1951-03-08 00:00:01+00:00</td>\n",
       "      <td>2025/06/30 00:00:00+00</td>\n",
       "      <td>MULTIPOLYGON (((116.31024 -33.39057, 116.31176...</td>\n",
       "    </tr>\n",
       "    <tr>\n",
       "      <th>1</th>\n",
       "      <td>32021429</td>\n",
       "      <td>CML1200449</td>\n",
       "      <td>COAL MINING LEASE</td>\n",
       "      <td>SURVEYED</td>\n",
       "      <td>LIVE</td>\n",
       "      <td>1.0</td>\n",
       "      <td>THE GRIFFIN COAL MINING COMPANY PTY LIMITED</td>\n",
       "      <td>C/- TG MINING TITLE SERVICES PTY LTD,PO BOX Z5...</td>\n",
       "      <td></td>\n",
       "      <td></td>\n",
       "      <td>...</td>\n",
       "      <td></td>\n",
       "      <td>CML 12/449</td>\n",
       "      <td>129.45</td>\n",
       "      <td>HA.</td>\n",
       "      <td></td>\n",
       "      <td>2025-02-25 04:10:40+00:00</td>\n",
       "      <td>1951/06/28 00:00:01+00</td>\n",
       "      <td>1951-03-08 00:00:01+00:00</td>\n",
       "      <td>2025/06/30 00:00:00+00</td>\n",
       "      <td>MULTIPOLYGON (((116.2999 -33.42261, 116.30594 ...</td>\n",
       "    </tr>\n",
       "    <tr>\n",
       "      <th>2</th>\n",
       "      <td>32021430</td>\n",
       "      <td>CML1200450</td>\n",
       "      <td>COAL MINING LEASE</td>\n",
       "      <td>SURVEYED</td>\n",
       "      <td>LIVE</td>\n",
       "      <td>1.0</td>\n",
       "      <td>THE GRIFFIN COAL MINING COMPANY PTY LIMITED</td>\n",
       "      <td>C/- TG MINING TITLE SERVICES PTY LTD,PO BOX Z5...</td>\n",
       "      <td></td>\n",
       "      <td></td>\n",
       "      <td>...</td>\n",
       "      <td></td>\n",
       "      <td>CML 12/450</td>\n",
       "      <td>129.50</td>\n",
       "      <td>HA.</td>\n",
       "      <td></td>\n",
       "      <td>2025-02-25 04:10:40+00:00</td>\n",
       "      <td>1951/06/28 00:00:01+00</td>\n",
       "      <td>1951-03-07 00:00:01+00:00</td>\n",
       "      <td>2025/06/30 00:00:00+00</td>\n",
       "      <td>MULTIPOLYGON (((116.32327 -33.42598, 116.31637...</td>\n",
       "    </tr>\n",
       "    <tr>\n",
       "      <th>3</th>\n",
       "      <td>32021431</td>\n",
       "      <td>CML1200451</td>\n",
       "      <td>COAL MINING LEASE</td>\n",
       "      <td>SURVEYED</td>\n",
       "      <td>LIVE</td>\n",
       "      <td>1.0</td>\n",
       "      <td>THE GRIFFIN COAL MINING COMPANY PTY LIMITED</td>\n",
       "      <td>C/- TG MINING TITLE SERVICES PTY LTD,PO BOX Z5...</td>\n",
       "      <td></td>\n",
       "      <td></td>\n",
       "      <td>...</td>\n",
       "      <td></td>\n",
       "      <td>CML 12/451</td>\n",
       "      <td>129.50</td>\n",
       "      <td>HA.</td>\n",
       "      <td></td>\n",
       "      <td>2025-02-25 04:10:40+00:00</td>\n",
       "      <td>1951/06/28 00:00:01+00</td>\n",
       "      <td>1951-03-07 00:00:01+00:00</td>\n",
       "      <td>2025/06/30 00:00:00+00</td>\n",
       "      <td>MULTIPOLYGON (((116.33018 -33.4216, 116.32842 ...</td>\n",
       "    </tr>\n",
       "    <tr>\n",
       "      <th>4</th>\n",
       "      <td>32021432</td>\n",
       "      <td>CML1200452</td>\n",
       "      <td>COAL MINING LEASE</td>\n",
       "      <td>SURVEYED</td>\n",
       "      <td>LIVE</td>\n",
       "      <td>1.0</td>\n",
       "      <td>THE GRIFFIN COAL MINING COMPANY PTY LIMITED</td>\n",
       "      <td>C/- TG MINING TITLE SERVICES PTY LTD,PO BOX Z5...</td>\n",
       "      <td></td>\n",
       "      <td></td>\n",
       "      <td>...</td>\n",
       "      <td></td>\n",
       "      <td>CML 12/452</td>\n",
       "      <td>129.50</td>\n",
       "      <td>HA.</td>\n",
       "      <td></td>\n",
       "      <td>2025-02-25 04:10:40+00:00</td>\n",
       "      <td>1951/06/28 00:00:01+00</td>\n",
       "      <td>1951-03-07 00:00:01+00:00</td>\n",
       "      <td>2025/06/30 00:00:00+00</td>\n",
       "      <td>MULTIPOLYGON (((116.33708 -33.41723, 116.33182...</td>\n",
       "    </tr>\n",
       "  </tbody>\n",
       "</table>\n",
       "<p>5 rows × 33 columns</p>\n",
       "</div>"
      ],
      "text/plain": [
       "        gid        tenid               type survstatus tenstatus  holdercnt  \\\n",
       "0  32021428  CML1200448   COAL MINING LEASE   SURVEYED      LIVE        1.0   \n",
       "1  32021429  CML1200449   COAL MINING LEASE   SURVEYED      LIVE        1.0   \n",
       "2  32021430  CML1200450   COAL MINING LEASE   SURVEYED      LIVE        1.0   \n",
       "3  32021431  CML1200451   COAL MINING LEASE   SURVEYED      LIVE        1.0   \n",
       "4  32021432  CML1200452   COAL MINING LEASE   SURVEYED      LIVE        1.0   \n",
       "\n",
       "                                       holder1  \\\n",
       "0  THE GRIFFIN COAL MINING COMPANY PTY LIMITED   \n",
       "1  THE GRIFFIN COAL MINING COMPANY PTY LIMITED   \n",
       "2  THE GRIFFIN COAL MINING COMPANY PTY LIMITED   \n",
       "3  THE GRIFFIN COAL MINING COMPANY PTY LIMITED   \n",
       "4  THE GRIFFIN COAL MINING COMPANY PTY LIMITED   \n",
       "\n",
       "                                               addr1 holder2 addr2  ... addr9  \\\n",
       "0  C/- TG MINING TITLE SERVICES PTY LTD,PO BOX Z5...                ...         \n",
       "1  C/- TG MINING TITLE SERVICES PTY LTD,PO BOX Z5...                ...         \n",
       "2  C/- TG MINING TITLE SERVICES PTY LTD,PO BOX Z5...                ...         \n",
       "3  C/- TG MINING TITLE SERVICES PTY LTD,PO BOX Z5...                ...         \n",
       "4  C/- TG MINING TITLE SERVICES PTY LTD,PO BOX Z5...                ...         \n",
       "\n",
       "    fmt_tenid legal_area unit_of_me special_in                extract_da  \\\n",
       "0  CML 12/448      71.60        HA.            2025-02-25 04:10:07+00:00   \n",
       "1  CML 12/449     129.45        HA.            2025-02-25 04:10:40+00:00   \n",
       "2  CML 12/450     129.50        HA.            2025-02-25 04:10:40+00:00   \n",
       "3  CML 12/451     129.50        HA.            2025-02-25 04:10:40+00:00   \n",
       "4  CML 12/452     129.50        HA.            2025-02-25 04:10:40+00:00   \n",
       "\n",
       "                grantdate                 startdate                 enddate  \\\n",
       "0  1952/02/28 00:00:01+00 1951-03-08 00:00:01+00:00  2025/06/30 00:00:00+00   \n",
       "1  1951/06/28 00:00:01+00 1951-03-08 00:00:01+00:00  2025/06/30 00:00:00+00   \n",
       "2  1951/06/28 00:00:01+00 1951-03-07 00:00:01+00:00  2025/06/30 00:00:00+00   \n",
       "3  1951/06/28 00:00:01+00 1951-03-07 00:00:01+00:00  2025/06/30 00:00:00+00   \n",
       "4  1951/06/28 00:00:01+00 1951-03-07 00:00:01+00:00  2025/06/30 00:00:00+00   \n",
       "\n",
       "                                            geometry  \n",
       "0  MULTIPOLYGON (((116.31024 -33.39057, 116.31176...  \n",
       "1  MULTIPOLYGON (((116.2999 -33.42261, 116.30594 ...  \n",
       "2  MULTIPOLYGON (((116.32327 -33.42598, 116.31637...  \n",
       "3  MULTIPOLYGON (((116.33018 -33.4216, 116.32842 ...  \n",
       "4  MULTIPOLYGON (((116.33708 -33.41723, 116.33182...  \n",
       "\n",
       "[5 rows x 33 columns]"
      ]
     },
     "execution_count": 6,
     "metadata": {},
     "output_type": "execute_result"
    }
   ],
   "source": [
    "data.head(\n",
    ")"
   ]
  },
  {
   "cell_type": "code",
   "execution_count": 7,
   "metadata": {},
   "outputs": [
    {
     "data": {
      "text/plain": [
       "array(['COAL MINING LEASE', 'EXPLORATION LICENCE', 'PROSPECTING LICENCE',\n",
       "       'MINING LEASE', 'GENERAL PURPOSE LEASE',\n",
       "       'GENERAL PURPOSE LEASE S.A.', 'MISCELLANEOUS LICENCE',\n",
       "       'CHRISTMAS ISLAND EXPLORATION LICENCE',\n",
       "       'CHRISTMAS ISLAND GENERAL PURPOSE LEASE',\n",
       "       'MISCELLANEOUS LICENSE S.A.', 'MINERAL LEASE',\n",
       "       'MINERAL LEASE S.A.', 'CHRISTMAS ISLAND MISCELLANEOUS LICENCE',\n",
       "       'LICENCE TO TREAT TAILINGS', 'MINING LEASE S.A.',\n",
       "       'RETENTION LICENCE', 'MINERAL CLAIM',\n",
       "       'CHRISTMAS ISLAND MINING LEASE', 'TEMPORARY RESERVE',\n",
       "       'EXPLORATION LICENCE OFFSHORE', 'COMMONWEALTH EXPLORATION LICENCE'],\n",
       "      dtype=object)"
      ]
     },
     "execution_count": 7,
     "metadata": {},
     "output_type": "execute_result"
    }
   ],
   "source": [
    "data['type'].unique(\n",
    ")"
   ]
  },
  {
   "cell_type": "code",
   "execution_count": 22,
   "metadata": {},
   "outputs": [],
   "source": [
    "def make_file_by_input_type(theType, entrydf):\n",
    "    df = entrydf[entrydf['type'] == theType]\n",
    "    filename = theType.replace(\" \", \"_\")\n",
    "    df.to_file(f\"{filename}.geojson\", driver=\"GeoJSON\")\n",
    "    \n",
    "    "
   ]
  },
  {
   "cell_type": "code",
   "execution_count": 24,
   "metadata": {},
   "outputs": [],
   "source": [
    "make_file_by_input_type(\"EXPLORATION LICENCE\", data)"
   ]
  },
  {
   "cell_type": "code",
   "execution_count": 9,
   "metadata": {},
   "outputs": [
    {
     "data": {
      "text/plain": [
       "3557"
      ]
     },
     "execution_count": 9,
     "metadata": {},
     "output_type": "execute_result"
    }
   ],
   "source": [
    "len(data['holder1'].unique())"
   ]
  },
  {
   "cell_type": "code",
   "execution_count": 13,
   "metadata": {},
   "outputs": [],
   "source": [
    "coal = data[data['type'] == \"COAL MINING LEASE\"]"
   ]
  },
  {
   "cell_type": "code",
   "execution_count": 15,
   "metadata": {},
   "outputs": [
    {
     "data": {
      "text/plain": [
       "<Axes: >"
      ]
     },
     "execution_count": 15,
     "metadata": {},
     "output_type": "execute_result"
    },
    {
     "data": {
      "image/png": "[encoded data removed]",
      "text/plain": [
       "<Figure size 640x480 with 1 Axes>"
      ]
     },
     "metadata": {},
     "output_type": "display_data"
    }
   ],
   "source": [
    "coal.plot()"
   ]
  },
  {
   "cell_type": "code",
   "execution_count": 18,
   "metadata": {},
   "outputs": [],
   "source": [
    "coal.to_file(\"coal.geojson\", driver=\"GeoJSON\")"
   ]
  }
 ],
 "metadata": {
  "kernelspec": {
   "display_name": "Python 3",
   "language": "python",
   "name": "python3"
  },
  "language_info": {
   "codemirror_mode": {
    "name": "ipython",
    "version": 3
   },
   "file_extension": ".py",
   "mimetype": "text/x-python",
   "name": "python",
   "nbconvert_exporter": "python",
   "pygments_lexer": "ipython3",
   "version": "3.11.5"
  }
 },
 "nbformat": 4,
 "nbformat_minor": 2
}
