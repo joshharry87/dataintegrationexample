{
 "cells": [
  {
   "cell_type": "markdown",
   "metadata": {},
   "source": [
    "# Look at the data distributions by lithology domains and do some clustering etc. explore this data:::\n",
    "Western Australia - Geochem - Point Data : https://geochem.dmp.wa.gov.au/geochem/"
   ]
  },
  {
   "cell_type": "markdown",
   "metadata": {},
   "source": [
    "\n",
    "128 - 129  West East\n",
    "25- 26 North South\n",
    "\n",
    "```\n",
    "Lithologies Within   - \n",
    "f\n",
    "felsic volcanic\n",
    "rocks\n",
    "MESOPROTEROZOIC\n",
    "rhyolite, sandstone, siltstone, basalt\n",
    "d7f\n",
    "g7e\n",
    "Czv\n",
    "g7f\n",
    "g7c\n",
    "s7c\n",
    "Km - Kaarnka and\n",
    "Mount Palgrave Groups\n",
    "rhyolite, sandstone, siltstone, basalt\n",
    "Czs\n",
    "C0s\n",
    "NEOPROTEROZOIC\n",
    "Cn1 - Sandstone, siltstone, carbonate, evaporite\n",
    "Tj\n",
    "\n",
    "```\n",
    "\n",
    "### First letter categories : \n",
    "s sedimentary\n",
    "\n",
    "f felsic volcanic\n",
    "rocks\n",
    "\n",
    "b\n",
    "mafic and ultramafic\n",
    "volcanic rocks\n",
    "\n",
    "d mafic and ultramafic\n",
    "intrusions\n",
    "\n",
    "g granite intrusions\n",
    "\n",
    "n Gneiss\n",
    "\n",
    "\n"
   ]
  },
  {
   "cell_type": "code",
   "execution_count": null,
   "metadata": {},
   "outputs": [],
   "source": []
  }
 ],
 "metadata": {
  "language_info": {
   "name": "python"
  }
 },
 "nbformat": 4,
 "nbformat_minor": 2
}
