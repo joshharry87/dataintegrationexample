{
 "cells": [
  {
   "cell_type": "markdown",
   "metadata": {},
   "source": [
    "# Magnetics Sources : \n",
    "https://dataservices.gfz-potsdam.de/intermagnet/showshort.php?id=cfc7a77f-12cc-11ef-967a-4ffbfe06208e\n",
    "\n",
    "https://resources.vic.gov.au/geology-exploration/maps-reports-data/geophysics\n",
    "\n",
    "https://resources.vic.gov.au/geology-exploration/maps-reports-data/geophysics\n",
    "\n",
    "\n",
    "### To Do : use Qgis to make polygons -> cut out sections \n",
    "\n",
    "\n",
    "```\n",
    "Find lithologies of an area \n",
    "Make some cut outs \n",
    "Train\n",
    "Test etc.\n",
    "\n",
    "\n",
    "```"
   ]
  }
 ],
 "metadata": {
  "language_info": {
   "name": "python"
  }
 },
 "nbformat": 4,
 "nbformat_minor": 2
}
