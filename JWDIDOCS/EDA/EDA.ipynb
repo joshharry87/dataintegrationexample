{
 "cells": [
  {
   "cell_type": "markdown",
   "metadata": {},
   "source": [
    "# EDA Notebook \n",
    "\n",
    "## DATA SET : Weather Data \n",
    "\n",
    "### Source : https://app.swaggerhub.com/apis-docs/WeatherAPI.com/WeatherAPI/1.0.2#/APIs/history-weather"
   ]
  },
  {
   "cell_type": "code",
   "execution_count": 1,
   "metadata": {},
   "outputs": [],
   "source": [
    "import pandas as pd\n",
    "import numpy as np\n",
    "import seaborn as sb\n",
    "from sklearn import tree\n",
    "from sklearn import cluster\n",
    "import requests as r\n",
    "import json\n",
    "\n",
    "\n"
   ]
  },
  {
   "cell_type": "code",
   "execution_count": 2,
   "metadata": {},
   "outputs": [],
   "source": [
    "months = ['Mar', 'Apr', 'May', 'Jun', 'Jul', 'Aug', 'Sep']"
   ]
  },
  {
   "cell_type": "code",
   "execution_count": 5,
   "metadata": {},
   "outputs": [],
   "source": [
    "\n",
    "def get_weather_data(monthlist):\n",
    "    # datalist = []\n",
    "    x = 0\n",
    "    for month in monthlist:\n",
    "        response = r.get(url=f\"https://api.weatherapi.com/v1/history.json?q=Perth&dt=2024-{month}-01&end_dt=2024-{month}-31&hour=8&key=96792ecea70641218aa32831252402\")\n",
    "        data_dict = json.loads(response.content)\n",
    "        data = pd.json_normalize(data_dict['forecast']['forecastday'])\n",
    "        if x == 0:\n",
    "            baseset = data\n",
    "        else:\n",
    "            baseset = pd.concat([baseset, data], ignore_index=True)\n",
    "        x += 1\n",
    "        \n",
    "    return baseset\n",
    "        \n",
    "\n",
    "    \n",
    "    \n",
    "        "
   ]
  },
  {
   "cell_type": "code",
   "execution_count": null,
   "metadata": {},
   "outputs": [
    {
     "ename": "IndentationError",
     "evalue": "unexpected indent (606945623.py, line 2)",
     "output_type": "error",
     "traceback": [
      "\u001b[1;36m  Cell \u001b[1;32mIn[8], line 2\u001b[1;36m\u001b[0m\n\u001b[1;33m    for month in monthlist:\u001b[0m\n\u001b[1;37m    ^\u001b[0m\n\u001b[1;31mIndentationError\u001b[0m\u001b[1;31m:\u001b[0m unexpected indent\n"
     ]
    }
   ],
   "source": [
    "x = 0\n",
    "for month in monthlist:\n",
    "    response = r.get(url=f\"https://api.weatherapi.com/v1/history.json?q=Perth&dt=2024-{month}-01&end_dt=2024-{month}-31&hour=8&key=96792ecea70641218aa32831252402\")\n",
    "    data_dict = json.loads(response.content)\n",
    "    data = pd.json_normalize(data_dict['forecast']['forecastday'])\n",
    "    if x == 0:\n",
    "        baseset = data\n",
    "    else:\n",
    "        baseset = pd.concat([baseset, data], ignore_index=True)\n",
    "    x += 1"
   ]
  },
  {
   "cell_type": "code",
   "execution_count": 6,
   "metadata": {},
   "outputs": [
    {
     "ename": "KeyError",
     "evalue": "'forecast'",
     "output_type": "error",
     "traceback": [
      "\u001b[1;31m---------------------------------------------------------------------------\u001b[0m",
      "\u001b[1;31mKeyError\u001b[0m                                  Traceback (most recent call last)",
      "Cell \u001b[1;32mIn[6], line 1\u001b[0m\n\u001b[1;32m----> 1\u001b[0m data \u001b[38;5;241m=\u001b[39m \u001b[43mget_weather_data\u001b[49m\u001b[43m(\u001b[49m\u001b[43mmonths\u001b[49m\u001b[43m)\u001b[49m\n",
      "Cell \u001b[1;32mIn[5], line 7\u001b[0m, in \u001b[0;36mget_weather_data\u001b[1;34m(monthlist)\u001b[0m\n\u001b[0;32m      5\u001b[0m response \u001b[38;5;241m=\u001b[39m r\u001b[38;5;241m.\u001b[39mget(url\u001b[38;5;241m=\u001b[39m\u001b[38;5;124mf\u001b[39m\u001b[38;5;124m\"\u001b[39m\u001b[38;5;124mhttps://api.weatherapi.com/v1/history.json?q=Perth&dt=2024-\u001b[39m\u001b[38;5;132;01m{\u001b[39;00mmonth\u001b[38;5;132;01m}\u001b[39;00m\u001b[38;5;124m-01&end_dt=2024-\u001b[39m\u001b[38;5;132;01m{\u001b[39;00mmonth\u001b[38;5;132;01m}\u001b[39;00m\u001b[38;5;124m-31&hour=8&key=96792ecea70641218aa32831252402\u001b[39m\u001b[38;5;124m\"\u001b[39m)\n\u001b[0;32m      6\u001b[0m data_dict \u001b[38;5;241m=\u001b[39m json\u001b[38;5;241m.\u001b[39mloads(response\u001b[38;5;241m.\u001b[39mcontent)\n\u001b[1;32m----> 7\u001b[0m data \u001b[38;5;241m=\u001b[39m pd\u001b[38;5;241m.\u001b[39mjson_normalize(\u001b[43mdata_dict\u001b[49m\u001b[43m[\u001b[49m\u001b[38;5;124;43m'\u001b[39;49m\u001b[38;5;124;43mforecast\u001b[39;49m\u001b[38;5;124;43m'\u001b[39;49m\u001b[43m]\u001b[49m[\u001b[38;5;124m'\u001b[39m\u001b[38;5;124mforecastday\u001b[39m\u001b[38;5;124m'\u001b[39m])\n\u001b[0;32m      8\u001b[0m \u001b[38;5;28;01mif\u001b[39;00m x \u001b[38;5;241m==\u001b[39m \u001b[38;5;241m0\u001b[39m:\n\u001b[0;32m      9\u001b[0m     baseset \u001b[38;5;241m=\u001b[39m data\n",
      "\u001b[1;31mKeyError\u001b[0m: 'forecast'"
     ]
    }
   ],
   "source": [
    "data = get_weather_data(months)"
   ]
  },
  {
   "cell_type": "code",
   "execution_count": 9,
   "metadata": {},
   "outputs": [],
   "source": [
    "response = r.get(url=\"https://api.weatherapi.com/v1/history.json?q=Perth&dt=2024-Mar-01&end_dt=2024-Sep-20&hour=8&key=96792ecea70641218aa32831252402\")"
   ]
  },
  {
   "cell_type": "code",
   "execution_count": 10,
   "metadata": {},
   "outputs": [],
   "source": [
    "\n",
    "\n",
    "data_dict = json.loads(response.content)"
   ]
  },
  {
   "cell_type": "code",
   "execution_count": 12,
   "metadata": {},
   "outputs": [
    {
     "data": {
      "text/plain": [
       "{'error': {'code': 1008,\n",
       "  'message': 'API key is limited to get history data. Please check our pricing page and upgrade to higher plan.'}}"
      ]
     },
     "execution_count": 12,
     "metadata": {},
     "output_type": "execute_result"
    }
   ],
   "source": [
    "data_dict"
   ]
  },
  {
   "cell_type": "code",
   "execution_count": null,
   "metadata": {},
   "outputs": [],
   "source": [
    "#  jump on website to check out the API key restrictions "
   ]
  },
  {
   "cell_type": "code",
   "execution_count": 11,
   "metadata": {},
   "outputs": [
    {
     "ename": "KeyError",
     "evalue": "'forecast'",
     "output_type": "error",
     "traceback": [
      "\u001b[1;31m---------------------------------------------------------------------------\u001b[0m",
      "\u001b[1;31mKeyError\u001b[0m                                  Traceback (most recent call last)",
      "Cell \u001b[1;32mIn[11], line 1\u001b[0m\n\u001b[1;32m----> 1\u001b[0m \u001b[43mdata_dict\u001b[49m\u001b[43m[\u001b[49m\u001b[38;5;124;43m'\u001b[39;49m\u001b[38;5;124;43mforecast\u001b[39;49m\u001b[38;5;124;43m'\u001b[39;49m\u001b[43m]\u001b[49m\n",
      "\u001b[1;31mKeyError\u001b[0m: 'forecast'"
     ]
    }
   ],
   "source": [
    "data_dict['forecast']"
   ]
  },
  {
   "cell_type": "code",
   "execution_count": 30,
   "metadata": {},
   "outputs": [],
   "source": [
    "data = pd.json_normalize(data_dict['forecast']['forecastday'])"
   ]
  },
  {
   "cell_type": "code",
   "execution_count": 41,
   "metadata": {},
   "outputs": [
    {
     "data": {
      "text/html": [
       "<div>\n",
       "<style scoped>\n",
       "    .dataframe tbody tr th:only-of-type {\n",
       "        vertical-align: middle;\n",
       "    }\n",
       "\n",
       "    .dataframe tbody tr th {\n",
       "        vertical-align: top;\n",
       "    }\n",
       "\n",
       "    .dataframe thead th {\n",
       "        text-align: right;\n",
       "    }\n",
       "</style>\n",
       "<table border=\"1\" class=\"dataframe\">\n",
       "  <thead>\n",
       "    <tr style=\"text-align: right;\">\n",
       "      <th></th>\n",
       "      <th>date</th>\n",
       "      <th>date_epoch</th>\n",
       "      <th>hour</th>\n",
       "      <th>day.maxtemp_c</th>\n",
       "      <th>day.maxtemp_f</th>\n",
       "      <th>day.mintemp_c</th>\n",
       "      <th>day.mintemp_f</th>\n",
       "      <th>day.avgtemp_c</th>\n",
       "      <th>day.avgtemp_f</th>\n",
       "      <th>day.maxwind_mph</th>\n",
       "      <th>...</th>\n",
       "      <th>day.condition.text</th>\n",
       "      <th>day.condition.icon</th>\n",
       "      <th>day.condition.code</th>\n",
       "      <th>day.uv</th>\n",
       "      <th>astro.sunrise</th>\n",
       "      <th>astro.sunset</th>\n",
       "      <th>astro.moonrise</th>\n",
       "      <th>astro.moonset</th>\n",
       "      <th>astro.moon_phase</th>\n",
       "      <th>astro.moon_illumination</th>\n",
       "    </tr>\n",
       "  </thead>\n",
       "  <tbody>\n",
       "    <tr>\n",
       "      <th>0</th>\n",
       "      <td>2024-03-01</td>\n",
       "      <td>1709251200</td>\n",
       "      <td>[{'time_epoch': 1709251200, 'time': '2024-03-0...</td>\n",
       "      <td>31.4</td>\n",
       "      <td>88.5</td>\n",
       "      <td>21.4</td>\n",
       "      <td>70.5</td>\n",
       "      <td>26.4</td>\n",
       "      <td>79.5</td>\n",
       "      <td>18.6</td>\n",
       "      <td>...</td>\n",
       "      <td>Patchy rain possible</td>\n",
       "      <td>//cdn.weatherapi.com/weather/64x64/day/176.png</td>\n",
       "      <td>1063</td>\n",
       "      <td>8.0</td>\n",
       "      <td>06:06 AM</td>\n",
       "      <td>06:51 PM</td>\n",
       "      <td>09:43 PM</td>\n",
       "      <td>10:59 AM</td>\n",
       "      <td>Waning Gibbous</td>\n",
       "      <td>78</td>\n",
       "    </tr>\n",
       "    <tr>\n",
       "      <th>1</th>\n",
       "      <td>2024-03-02</td>\n",
       "      <td>1709337600</td>\n",
       "      <td>[{'time_epoch': 1709337600, 'time': '2024-03-0...</td>\n",
       "      <td>33.6</td>\n",
       "      <td>92.5</td>\n",
       "      <td>20.1</td>\n",
       "      <td>68.2</td>\n",
       "      <td>25.7</td>\n",
       "      <td>78.2</td>\n",
       "      <td>26.4</td>\n",
       "      <td>...</td>\n",
       "      <td>Patchy rain possible</td>\n",
       "      <td>//cdn.weatherapi.com/weather/64x64/day/176.png</td>\n",
       "      <td>1063</td>\n",
       "      <td>8.0</td>\n",
       "      <td>06:07 AM</td>\n",
       "      <td>06:50 PM</td>\n",
       "      <td>10:19 PM</td>\n",
       "      <td>11:59 AM</td>\n",
       "      <td>Waning Gibbous</td>\n",
       "      <td>69</td>\n",
       "    </tr>\n",
       "    <tr>\n",
       "      <th>2</th>\n",
       "      <td>2024-03-03</td>\n",
       "      <td>1709424000</td>\n",
       "      <td>[{'time_epoch': 1709424000, 'time': '2024-03-0...</td>\n",
       "      <td>31.1</td>\n",
       "      <td>88.0</td>\n",
       "      <td>22.3</td>\n",
       "      <td>72.1</td>\n",
       "      <td>26.3</td>\n",
       "      <td>79.3</td>\n",
       "      <td>27.7</td>\n",
       "      <td>...</td>\n",
       "      <td>Patchy rain possible</td>\n",
       "      <td>//cdn.weatherapi.com/weather/64x64/day/176.png</td>\n",
       "      <td>1063</td>\n",
       "      <td>8.0</td>\n",
       "      <td>06:08 AM</td>\n",
       "      <td>06:49 PM</td>\n",
       "      <td>11:02 PM</td>\n",
       "      <td>01:02 PM</td>\n",
       "      <td>Last Quarter</td>\n",
       "      <td>60</td>\n",
       "    </tr>\n",
       "    <tr>\n",
       "      <th>3</th>\n",
       "      <td>2024-03-04</td>\n",
       "      <td>1709510400</td>\n",
       "      <td>[{'time_epoch': 1709510400, 'time': '2024-03-0...</td>\n",
       "      <td>24.0</td>\n",
       "      <td>75.3</td>\n",
       "      <td>21.5</td>\n",
       "      <td>70.8</td>\n",
       "      <td>22.3</td>\n",
       "      <td>72.1</td>\n",
       "      <td>18.6</td>\n",
       "      <td>...</td>\n",
       "      <td>Patchy rain possible</td>\n",
       "      <td>//cdn.weatherapi.com/weather/64x64/day/176.png</td>\n",
       "      <td>1063</td>\n",
       "      <td>6.0</td>\n",
       "      <td>06:08 AM</td>\n",
       "      <td>06:48 PM</td>\n",
       "      <td>11:54 PM</td>\n",
       "      <td>02:05 PM</td>\n",
       "      <td>Waning Crescent</td>\n",
       "      <td>50</td>\n",
       "    </tr>\n",
       "    <tr>\n",
       "      <th>4</th>\n",
       "      <td>2024-03-05</td>\n",
       "      <td>1709596800</td>\n",
       "      <td>[{'time_epoch': 1709596800, 'time': '2024-03-0...</td>\n",
       "      <td>26.0</td>\n",
       "      <td>78.9</td>\n",
       "      <td>19.2</td>\n",
       "      <td>66.5</td>\n",
       "      <td>23.1</td>\n",
       "      <td>73.7</td>\n",
       "      <td>15.4</td>\n",
       "      <td>...</td>\n",
       "      <td>Sunny</td>\n",
       "      <td>//cdn.weatherapi.com/weather/64x64/day/113.png</td>\n",
       "      <td>1000</td>\n",
       "      <td>8.0</td>\n",
       "      <td>06:09 AM</td>\n",
       "      <td>06:46 PM</td>\n",
       "      <td>No moonrise</td>\n",
       "      <td>03:06 PM</td>\n",
       "      <td>Waning Crescent</td>\n",
       "      <td>39</td>\n",
       "    </tr>\n",
       "    <tr>\n",
       "      <th>...</th>\n",
       "      <td>...</td>\n",
       "      <td>...</td>\n",
       "      <td>...</td>\n",
       "      <td>...</td>\n",
       "      <td>...</td>\n",
       "      <td>...</td>\n",
       "      <td>...</td>\n",
       "      <td>...</td>\n",
       "      <td>...</td>\n",
       "      <td>...</td>\n",
       "      <td>...</td>\n",
       "      <td>...</td>\n",
       "      <td>...</td>\n",
       "      <td>...</td>\n",
       "      <td>...</td>\n",
       "      <td>...</td>\n",
       "      <td>...</td>\n",
       "      <td>...</td>\n",
       "      <td>...</td>\n",
       "      <td>...</td>\n",
       "      <td>...</td>\n",
       "    </tr>\n",
       "    <tr>\n",
       "      <th>122</th>\n",
       "      <td>2024-08-28</td>\n",
       "      <td>1724803200</td>\n",
       "      <td>[{'time_epoch': 1724803200, 'time': '2024-08-2...</td>\n",
       "      <td>18.4</td>\n",
       "      <td>65.1</td>\n",
       "      <td>11.0</td>\n",
       "      <td>51.7</td>\n",
       "      <td>15.3</td>\n",
       "      <td>59.6</td>\n",
       "      <td>20.8</td>\n",
       "      <td>...</td>\n",
       "      <td>Patchy rain possible</td>\n",
       "      <td>//cdn.weatherapi.com/weather/64x64/day/176.png</td>\n",
       "      <td>1063</td>\n",
       "      <td>5.0</td>\n",
       "      <td>06:38 AM</td>\n",
       "      <td>05:58 PM</td>\n",
       "      <td>02:34 AM</td>\n",
       "      <td>12:18 PM</td>\n",
       "      <td>Waning Crescent</td>\n",
       "      <td>36</td>\n",
       "    </tr>\n",
       "    <tr>\n",
       "      <th>123</th>\n",
       "      <td>2024-08-29</td>\n",
       "      <td>1724889600</td>\n",
       "      <td>[{'time_epoch': 1724889600, 'time': '2024-08-2...</td>\n",
       "      <td>18.7</td>\n",
       "      <td>65.6</td>\n",
       "      <td>14.7</td>\n",
       "      <td>58.5</td>\n",
       "      <td>16.4</td>\n",
       "      <td>61.5</td>\n",
       "      <td>26.4</td>\n",
       "      <td>...</td>\n",
       "      <td>Light rain shower</td>\n",
       "      <td>//cdn.weatherapi.com/weather/64x64/day/353.png</td>\n",
       "      <td>1240</td>\n",
       "      <td>5.0</td>\n",
       "      <td>06:37 AM</td>\n",
       "      <td>05:59 PM</td>\n",
       "      <td>03:33 AM</td>\n",
       "      <td>01:17 PM</td>\n",
       "      <td>Waning Crescent</td>\n",
       "      <td>27</td>\n",
       "    </tr>\n",
       "    <tr>\n",
       "      <th>124</th>\n",
       "      <td>2024-08-30</td>\n",
       "      <td>1724976000</td>\n",
       "      <td>[{'time_epoch': 1724976000, 'time': '2024-08-3...</td>\n",
       "      <td>16.3</td>\n",
       "      <td>61.3</td>\n",
       "      <td>13.6</td>\n",
       "      <td>56.5</td>\n",
       "      <td>14.7</td>\n",
       "      <td>58.5</td>\n",
       "      <td>17.0</td>\n",
       "      <td>...</td>\n",
       "      <td>Light rain shower</td>\n",
       "      <td>//cdn.weatherapi.com/weather/64x64/day/353.png</td>\n",
       "      <td>1240</td>\n",
       "      <td>5.0</td>\n",
       "      <td>06:36 AM</td>\n",
       "      <td>05:59 PM</td>\n",
       "      <td>04:23 AM</td>\n",
       "      <td>02:17 PM</td>\n",
       "      <td>Waning Crescent</td>\n",
       "      <td>18</td>\n",
       "    </tr>\n",
       "    <tr>\n",
       "      <th>125</th>\n",
       "      <td>2024-08-31</td>\n",
       "      <td>1725062400</td>\n",
       "      <td>[{'time_epoch': 1725062400, 'time': '2024-08-3...</td>\n",
       "      <td>17.1</td>\n",
       "      <td>62.8</td>\n",
       "      <td>14.2</td>\n",
       "      <td>57.6</td>\n",
       "      <td>15.7</td>\n",
       "      <td>60.2</td>\n",
       "      <td>14.8</td>\n",
       "      <td>...</td>\n",
       "      <td>Patchy rain possible</td>\n",
       "      <td>//cdn.weatherapi.com/weather/64x64/day/176.png</td>\n",
       "      <td>1063</td>\n",
       "      <td>5.0</td>\n",
       "      <td>06:34 AM</td>\n",
       "      <td>06:00 PM</td>\n",
       "      <td>05:07 AM</td>\n",
       "      <td>03:20 PM</td>\n",
       "      <td>Waning Crescent</td>\n",
       "      <td>11</td>\n",
       "    </tr>\n",
       "    <tr>\n",
       "      <th>126</th>\n",
       "      <td>2024-09-01</td>\n",
       "      <td>1725148800</td>\n",
       "      <td>[{'time_epoch': 1725148800, 'time': '2024-09-0...</td>\n",
       "      <td>17.9</td>\n",
       "      <td>64.3</td>\n",
       "      <td>13.4</td>\n",
       "      <td>56.1</td>\n",
       "      <td>16.2</td>\n",
       "      <td>61.1</td>\n",
       "      <td>13.2</td>\n",
       "      <td>...</td>\n",
       "      <td>Patchy rain possible</td>\n",
       "      <td>//cdn.weatherapi.com/weather/64x64/day/176.png</td>\n",
       "      <td>1063</td>\n",
       "      <td>5.0</td>\n",
       "      <td>06:33 AM</td>\n",
       "      <td>06:00 PM</td>\n",
       "      <td>05:43 AM</td>\n",
       "      <td>04:19 PM</td>\n",
       "      <td>Waning Crescent</td>\n",
       "      <td>6</td>\n",
       "    </tr>\n",
       "  </tbody>\n",
       "</table>\n",
       "<p>127 rows × 31 columns</p>\n",
       "</div>"
      ],
      "text/plain": [
       "           date  date_epoch  \\\n",
       "0    2024-03-01  1709251200   \n",
       "1    2024-03-02  1709337600   \n",
       "2    2024-03-03  1709424000   \n",
       "3    2024-03-04  1709510400   \n",
       "4    2024-03-05  1709596800   \n",
       "..          ...         ...   \n",
       "122  2024-08-28  1724803200   \n",
       "123  2024-08-29  1724889600   \n",
       "124  2024-08-30  1724976000   \n",
       "125  2024-08-31  1725062400   \n",
       "126  2024-09-01  1725148800   \n",
       "\n",
       "                                                  hour  day.maxtemp_c  \\\n",
       "0    [{'time_epoch': 1709251200, 'time': '2024-03-0...           31.4   \n",
       "1    [{'time_epoch': 1709337600, 'time': '2024-03-0...           33.6   \n",
       "2    [{'time_epoch': 1709424000, 'time': '2024-03-0...           31.1   \n",
       "3    [{'time_epoch': 1709510400, 'time': '2024-03-0...           24.0   \n",
       "4    [{'time_epoch': 1709596800, 'time': '2024-03-0...           26.0   \n",
       "..                                                 ...            ...   \n",
       "122  [{'time_epoch': 1724803200, 'time': '2024-08-2...           18.4   \n",
       "123  [{'time_epoch': 1724889600, 'time': '2024-08-2...           18.7   \n",
       "124  [{'time_epoch': 1724976000, 'time': '2024-08-3...           16.3   \n",
       "125  [{'time_epoch': 1725062400, 'time': '2024-08-3...           17.1   \n",
       "126  [{'time_epoch': 1725148800, 'time': '2024-09-0...           17.9   \n",
       "\n",
       "     day.maxtemp_f  day.mintemp_c  day.mintemp_f  day.avgtemp_c  \\\n",
       "0             88.5           21.4           70.5           26.4   \n",
       "1             92.5           20.1           68.2           25.7   \n",
       "2             88.0           22.3           72.1           26.3   \n",
       "3             75.3           21.5           70.8           22.3   \n",
       "4             78.9           19.2           66.5           23.1   \n",
       "..             ...            ...            ...            ...   \n",
       "122           65.1           11.0           51.7           15.3   \n",
       "123           65.6           14.7           58.5           16.4   \n",
       "124           61.3           13.6           56.5           14.7   \n",
       "125           62.8           14.2           57.6           15.7   \n",
       "126           64.3           13.4           56.1           16.2   \n",
       "\n",
       "     day.avgtemp_f  day.maxwind_mph  ...    day.condition.text  \\\n",
       "0             79.5             18.6  ...  Patchy rain possible   \n",
       "1             78.2             26.4  ...  Patchy rain possible   \n",
       "2             79.3             27.7  ...  Patchy rain possible   \n",
       "3             72.1             18.6  ...  Patchy rain possible   \n",
       "4             73.7             15.4  ...                 Sunny   \n",
       "..             ...              ...  ...                   ...   \n",
       "122           59.6             20.8  ...  Patchy rain possible   \n",
       "123           61.5             26.4  ...     Light rain shower   \n",
       "124           58.5             17.0  ...     Light rain shower   \n",
       "125           60.2             14.8  ...  Patchy rain possible   \n",
       "126           61.1             13.2  ...  Patchy rain possible   \n",
       "\n",
       "                                 day.condition.icon  day.condition.code  \\\n",
       "0    //cdn.weatherapi.com/weather/64x64/day/176.png                1063   \n",
       "1    //cdn.weatherapi.com/weather/64x64/day/176.png                1063   \n",
       "2    //cdn.weatherapi.com/weather/64x64/day/176.png                1063   \n",
       "3    //cdn.weatherapi.com/weather/64x64/day/176.png                1063   \n",
       "4    //cdn.weatherapi.com/weather/64x64/day/113.png                1000   \n",
       "..                                              ...                 ...   \n",
       "122  //cdn.weatherapi.com/weather/64x64/day/176.png                1063   \n",
       "123  //cdn.weatherapi.com/weather/64x64/day/353.png                1240   \n",
       "124  //cdn.weatherapi.com/weather/64x64/day/353.png                1240   \n",
       "125  //cdn.weatherapi.com/weather/64x64/day/176.png                1063   \n",
       "126  //cdn.weatherapi.com/weather/64x64/day/176.png                1063   \n",
       "\n",
       "     day.uv  astro.sunrise  astro.sunset  astro.moonrise  astro.moonset  \\\n",
       "0       8.0       06:06 AM      06:51 PM        09:43 PM       10:59 AM   \n",
       "1       8.0       06:07 AM      06:50 PM        10:19 PM       11:59 AM   \n",
       "2       8.0       06:08 AM      06:49 PM        11:02 PM       01:02 PM   \n",
       "3       6.0       06:08 AM      06:48 PM        11:54 PM       02:05 PM   \n",
       "4       8.0       06:09 AM      06:46 PM     No moonrise       03:06 PM   \n",
       "..      ...            ...           ...             ...            ...   \n",
       "122     5.0       06:38 AM      05:58 PM        02:34 AM       12:18 PM   \n",
       "123     5.0       06:37 AM      05:59 PM        03:33 AM       01:17 PM   \n",
       "124     5.0       06:36 AM      05:59 PM        04:23 AM       02:17 PM   \n",
       "125     5.0       06:34 AM      06:00 PM        05:07 AM       03:20 PM   \n",
       "126     5.0       06:33 AM      06:00 PM        05:43 AM       04:19 PM   \n",
       "\n",
       "     astro.moon_phase  astro.moon_illumination  \n",
       "0      Waning Gibbous                       78  \n",
       "1      Waning Gibbous                       69  \n",
       "2        Last Quarter                       60  \n",
       "3     Waning Crescent                       50  \n",
       "4     Waning Crescent                       39  \n",
       "..                ...                      ...  \n",
       "122   Waning Crescent                       36  \n",
       "123   Waning Crescent                       27  \n",
       "124   Waning Crescent                       18  \n",
       "125   Waning Crescent                       11  \n",
       "126   Waning Crescent                        6  \n",
       "\n",
       "[127 rows x 31 columns]"
      ]
     },
     "execution_count": 41,
     "metadata": {},
     "output_type": "execute_result"
    }
   ],
   "source": [
    "data"
   ]
  },
  {
   "cell_type": "code",
   "execution_count": null,
   "metadata": {},
   "outputs": [
    {
     "data": {
      "text/plain": [
       "{'date': '2024-03-01',\n",
       " 'date_epoch': 1709251200,\n",
       " 'day': {'maxtemp_c': 31.4,\n",
       "  'maxtemp_f': 88.5,\n",
       "  'mintemp_c': 21.4,\n",
       "  'mintemp_f': 70.5,\n",
       "  'avgtemp_c': 26.4,\n",
       "  'avgtemp_f': 79.5,\n",
       "  'maxwind_mph': 18.6,\n",
       "  'maxwind_kph': 29.9,\n",
       "  'totalprecip_mm': 0.56,\n",
       "  'totalprecip_in': 0.02,\n",
       "  'totalsnow_cm': 0.0,\n",
       "  'avgvis_km': 10.0,\n",
       "  'avgvis_miles': 6.0,\n",
       "  'avghumidity': 48,\n",
       "  'daily_will_it_rain': 1,\n",
       "  'daily_chance_of_rain': 100,\n",
       "  'daily_will_it_snow': 0,\n",
       "  'daily_chance_of_snow': 0,\n",
       "  'condition': {'text': 'Patchy rain possible',\n",
       "   'icon': '//cdn.weatherapi.com/weather/64x64/day/176.png',\n",
       "   'code': 1063},\n",
       "  'uv': 8.0},\n",
       " 'astro': {'sunrise': '06:06 AM',\n",
       "  'sunset': '06:51 PM',\n",
       "  'moonrise': '09:43 PM',\n",
       "  'moonset': '10:59 AM',\n",
       "  'moon_phase': 'Waning Gibbous',\n",
       "  'moon_illumination': 78},\n",
       " 'hour': [{'time_epoch': 1709251200,\n",
       "   'time': '2024-03-01 08:00',\n",
       "   'temp_c': 22.7,\n",
       "   'temp_f': 72.9,\n",
       "   'is_day': 1,\n",
       "   'condition': {'text': 'Sunny',\n",
       "    'icon': '//cdn.weatherapi.com/weather/64x64/day/113.png',\n",
       "    'code': 1000},\n",
       "   'wind_mph': 13.9,\n",
       "   'wind_kph': 22.3,\n",
       "   'wind_degree': 121,\n",
       "   'wind_dir': 'ESE',\n",
       "   'pressure_mb': 1012.0,\n",
       "   'pressure_in': 29.89,\n",
       "   'precip_mm': 0.0,\n",
       "   'precip_in': 0.0,\n",
       "   'snow_cm': 0.0,\n",
       "   'humidity': 56,\n",
       "   'cloud': 7,\n",
       "   'feelslike_c': 24.8,\n",
       "   'feelslike_f': 76.6,\n",
       "   'windchill_c': 22.7,\n",
       "   'windchill_f': 72.9,\n",
       "   'heatindex_c': 24.8,\n",
       "   'heatindex_f': 76.6,\n",
       "   'dewpoint_c': 13.6,\n",
       "   'dewpoint_f': 56.5,\n",
       "   'will_it_rain': 0,\n",
       "   'chance_of_rain': 0,\n",
       "   'will_it_snow': 0,\n",
       "   'chance_of_snow': 0,\n",
       "   'vis_km': 10.0,\n",
       "   'vis_miles': 6.0,\n",
       "   'gust_mph': 17.9,\n",
       "   'gust_kph': 28.9,\n",
       "   'uv': 7.0}]}"
      ]
     },
     "execution_count": 24,
     "metadata": {},
     "output_type": "execute_result"
    }
   ],
   "source": [
    "data_dict['forecast']['forecastday']"
   ]
  },
  {
   "cell_type": "markdown",
   "metadata": {},
   "source": [
    "# to do - basic analysis on this "
   ]
  },
  {
   "cell_type": "code",
   "execution_count": 42,
   "metadata": {},
   "outputs": [
    {
     "data": {
      "text/plain": [
       "<Axes: >"
      ]
     },
     "execution_count": 42,
     "metadata": {},
     "output_type": "execute_result"
    },
    {
     "data": {
      "image/png": "[encoded data removed]",
      "text/plain": [
       "<Figure size 640x480 with 1 Axes>"
      ]
     },
     "metadata": {},
     "output_type": "display_data"
    }
   ],
   "source": [
    "data[\"day.maxtemp_c\"].plot()"
   ]
  },
  {
   "cell_type": "code",
   "execution_count": 43,
   "metadata": {},
   "outputs": [
    {
     "data": {
      "text/plain": [
       "Index(['date', 'date_epoch', 'hour', 'day.maxtemp_c', 'day.maxtemp_f',\n",
       "       'day.mintemp_c', 'day.mintemp_f', 'day.avgtemp_c', 'day.avgtemp_f',\n",
       "       'day.maxwind_mph', 'day.maxwind_kph', 'day.totalprecip_mm',\n",
       "       'day.totalprecip_in', 'day.totalsnow_cm', 'day.avgvis_km',\n",
       "       'day.avgvis_miles', 'day.avghumidity', 'day.daily_will_it_rain',\n",
       "       'day.daily_chance_of_rain', 'day.daily_will_it_snow',\n",
       "       'day.daily_chance_of_snow', 'day.condition.text', 'day.condition.icon',\n",
       "       'day.condition.code', 'day.uv', 'astro.sunrise', 'astro.sunset',\n",
       "       'astro.moonrise', 'astro.moonset', 'astro.moon_phase',\n",
       "       'astro.moon_illumination'],\n",
       "      dtype='object')"
      ]
     },
     "execution_count": 43,
     "metadata": {},
     "output_type": "execute_result"
    }
   ],
   "source": [
    "data.columns"
   ]
  },
  {
   "cell_type": "code",
   "execution_count": 46,
   "metadata": {},
   "outputs": [
    {
     "data": {
      "text/plain": [
       "<Axes: >"
      ]
     },
     "execution_count": 46,
     "metadata": {},
     "output_type": "execute_result"
    },
    {
     "data": {
      "image/png": "[encoded data removed]",
      "text/plain": [
       "<Figure size 640x480 with 1 Axes>"
      ]
     },
     "metadata": {},
     "output_type": "display_data"
    }
   ],
   "source": [
    "data[\"day.daily_chance_of_rain\"].plot()"
   ]
  },
  {
   "cell_type": "code",
   "execution_count": 47,
   "metadata": {},
   "outputs": [
    {
     "data": {
      "text/plain": [
       "<Axes: >"
      ]
     },
     "execution_count": 47,
     "metadata": {},
     "output_type": "execute_result"
    },
    {
     "data": {
      "image/png": "[encoded data removed]",
      "text/plain": [
       "<Figure size 640x480 with 1 Axes>"
      ]
     },
     "metadata": {},
     "output_type": "display_data"
    }
   ],
   "source": [
    "data[\"day.avgvis_km\"].plot()"
   ]
  },
  {
   "cell_type": "markdown",
   "metadata": {},
   "source": [
    "## Lets see if we can predict rain based on a window of temp/humidity data preceding a rain event"
   ]
  },
  {
   "cell_type": "code",
   "execution_count": 50,
   "metadata": {},
   "outputs": [],
   "source": [
    "data.to_csv(\"mydata.csv\")"
   ]
  }
 ],
 "metadata": {
  "kernelspec": {
   "display_name": "Python 3",
   "language": "python",
   "name": "python3"
  },
  "language_info": {
   "codemirror_mode": {
    "name": "ipython",
    "version": 3
   },
   "file_extension": ".py",
   "mimetype": "text/x-python",
   "name": "python",
   "nbconvert_exporter": "python",
   "pygments_lexer": "ipython3",
   "version": "3.11.5"
  }
 },
 "nbformat": 4,
 "nbformat_minor": 2
}
