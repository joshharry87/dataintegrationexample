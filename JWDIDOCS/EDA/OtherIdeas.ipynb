{
 "cells": [
  {
   "cell_type": "markdown",
   "metadata": {},
   "source": [
    "https://github.com/sedaoturak/data-resources-for-materials-science\n",
    "\n",
    "Data to play with - materials"
   ]
  }
 ],
 "metadata": {
  "language_info": {
   "name": "python"
  }
 },
 "nbformat": 4,
 "nbformat_minor": 2
}
