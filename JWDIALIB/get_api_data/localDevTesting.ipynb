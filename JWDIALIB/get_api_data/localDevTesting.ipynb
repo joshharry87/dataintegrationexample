{
 "cells": [
  {
   "cell_type": "markdown",
   "metadata": {},
   "source": [
    "# Notebook for developing python and testing"
   ]
  },
  {
   "cell_type": "code",
   "execution_count": 2,
   "metadata": {},
   "outputs": [],
   "source": [
    "import requests as r\n",
    "import json\n",
    "import pandas as pd\n",
    "import pyodbc\n",
    "\n",
    "\n"
   ]
  },
  {
   "cell_type": "code",
   "execution_count": 5,
   "metadata": {},
   "outputs": [],
   "source": [
    "url_w = \"https://api.weatherapi.com/v1/current.json?q=Perth&key=96792ecea70641218aa32831252402\" #key should be piped but just making something quickly\n",
    "\n",
    "conn = \"\"\n",
    "\n",
    "\n",
    "response = r.get(url=url_w)\n",
    "data_dict = json.loads(response.content)\n",
    "data = pd.json_normalize(data_dict)"
   ]
  },
  {
   "cell_type": "code",
   "execution_count": 59,
   "metadata": {},
   "outputs": [],
   "source": [
    "import datetime as dt\n",
    "\n",
    "\n",
    "today = dt.date.today() - dt.timedelta(days=1)"
   ]
  },
  {
   "cell_type": "code",
   "execution_count": 60,
   "metadata": {},
   "outputs": [
    {
     "data": {
      "text/plain": [
       "datetime.date(2025, 2, 24)"
      ]
     },
     "execution_count": 60,
     "metadata": {},
     "output_type": "execute_result"
    }
   ],
   "source": [
    "today"
   ]
  },
  {
   "cell_type": "code",
   "execution_count": null,
   "metadata": {},
   "outputs": [
    {
     "data": {
      "text/plain": [
       "NotImplemented"
      ]
     },
     "execution_count": 57,
     "metadata": {},
     "output_type": "execute_result"
    }
   ],
   "source": [
    "dt.(today, 1)"
   ]
  },
  {
   "cell_type": "code",
   "execution_count": 61,
   "metadata": {},
   "outputs": [],
   "source": [
    "import datetime as dt\n",
    "\n",
    "months = ['Jan', 'Feb', 'Mar', 'Apr', 'May', 'Jun', 'Jul', 'Aug', 'Sep', 'Oct', 'Nov', 'Dec']\n",
    "\n",
    "theday = dt.date.today() - dt.timedelta(days=1)\n",
    "day =  theday.day\n",
    "month = months[theday.month-1]\n",
    "\n",
    "year = theday.year\n",
    "if day < 10:\n",
    "    day = f\"0{str(day)}\"\n",
    "\n",
    "date_ref = f\"{year}-{month}-{day}\""
   ]
  },
  {
   "cell_type": "code",
   "execution_count": 62,
   "metadata": {},
   "outputs": [],
   "source": [
    "date_ref\n",
    "url2 = f\"https://api.weatherapi.com/v1/history.json?q=Perth&dt={date_ref}&end_dt={date_ref}&hour=8&key=96792ecea70641218aa32831252402\"\n"
   ]
  },
  {
   "cell_type": "code",
   "execution_count": 20,
   "metadata": {},
   "outputs": [
    {
     "data": {
      "text/plain": [
       "'https://api.weatherapi.com/v1/history.json?q=Perth&dt=2025-Feb-24&end_dt=2025-Feb-24&hour=8&key=96792ecea70641218aa32831252402'"
      ]
     },
     "execution_count": 20,
     "metadata": {},
     "output_type": "execute_result"
    }
   ],
   "source": [
    "url2"
   ]
  },
  {
   "cell_type": "code",
   "execution_count": 21,
   "metadata": {},
   "outputs": [],
   "source": [
    "response = r.get(url=url2)\n",
    "data_dict = json.loads(response.content)\n",
    "data = pd.json_normalize(data_dict['forecast']['forecastday'])\n"
   ]
  },
  {
   "cell_type": "code",
   "execution_count": 22,
   "metadata": {},
   "outputs": [
    {
     "data": {
      "text/html": [
       "<div>\n",
       "<style scoped>\n",
       "    .dataframe tbody tr th:only-of-type {\n",
       "        vertical-align: middle;\n",
       "    }\n",
       "\n",
       "    .dataframe tbody tr th {\n",
       "        vertical-align: top;\n",
       "    }\n",
       "\n",
       "    .dataframe thead th {\n",
       "        text-align: right;\n",
       "    }\n",
       "</style>\n",
       "<table border=\"1\" class=\"dataframe\">\n",
       "  <thead>\n",
       "    <tr style=\"text-align: right;\">\n",
       "      <th></th>\n",
       "      <th>date</th>\n",
       "      <th>date_epoch</th>\n",
       "      <th>hour</th>\n",
       "      <th>day.maxtemp_c</th>\n",
       "      <th>day.maxtemp_f</th>\n",
       "      <th>day.mintemp_c</th>\n",
       "      <th>day.mintemp_f</th>\n",
       "      <th>day.avgtemp_c</th>\n",
       "      <th>day.avgtemp_f</th>\n",
       "      <th>day.maxwind_mph</th>\n",
       "      <th>...</th>\n",
       "      <th>day.condition.text</th>\n",
       "      <th>day.condition.icon</th>\n",
       "      <th>day.condition.code</th>\n",
       "      <th>day.uv</th>\n",
       "      <th>astro.sunrise</th>\n",
       "      <th>astro.sunset</th>\n",
       "      <th>astro.moonrise</th>\n",
       "      <th>astro.moonset</th>\n",
       "      <th>astro.moon_phase</th>\n",
       "      <th>astro.moon_illumination</th>\n",
       "    </tr>\n",
       "  </thead>\n",
       "  <tbody>\n",
       "    <tr>\n",
       "      <th>0</th>\n",
       "      <td>2025-02-24</td>\n",
       "      <td>1740355200</td>\n",
       "      <td>[{'time_epoch': 1740355200, 'time': '2025-02-2...</td>\n",
       "      <td>24.8</td>\n",
       "      <td>76.6</td>\n",
       "      <td>19.6</td>\n",
       "      <td>67.4</td>\n",
       "      <td>22.0</td>\n",
       "      <td>71.7</td>\n",
       "      <td>12.8</td>\n",
       "      <td>...</td>\n",
       "      <td>Sunny</td>\n",
       "      <td>//cdn.weatherapi.com/weather/64x64/day/113.png</td>\n",
       "      <td>1000</td>\n",
       "      <td>9.0</td>\n",
       "      <td>06:02 AM</td>\n",
       "      <td>06:57 PM</td>\n",
       "      <td>01:29 AM</td>\n",
       "      <td>04:34 PM</td>\n",
       "      <td>Waning Crescent</td>\n",
       "      <td>22</td>\n",
       "    </tr>\n",
       "  </tbody>\n",
       "</table>\n",
       "<p>1 rows × 31 columns</p>\n",
       "</div>"
      ],
      "text/plain": [
       "         date  date_epoch                                               hour  \\\n",
       "0  2025-02-24  1740355200  [{'time_epoch': 1740355200, 'time': '2025-02-2...   \n",
       "\n",
       "   day.maxtemp_c  day.maxtemp_f  day.mintemp_c  day.mintemp_f  day.avgtemp_c  \\\n",
       "0           24.8           76.6           19.6           67.4           22.0   \n",
       "\n",
       "   day.avgtemp_f  day.maxwind_mph  ...  day.condition.text  \\\n",
       "0           71.7             12.8  ...               Sunny   \n",
       "\n",
       "                               day.condition.icon  day.condition.code  day.uv  \\\n",
       "0  //cdn.weatherapi.com/weather/64x64/day/113.png                1000     9.0   \n",
       "\n",
       "   astro.sunrise  astro.sunset  astro.moonrise  astro.moonset  \\\n",
       "0       06:02 AM      06:57 PM        01:29 AM       04:34 PM   \n",
       "\n",
       "   astro.moon_phase  astro.moon_illumination  \n",
       "0   Waning Crescent                       22  \n",
       "\n",
       "[1 rows x 31 columns]"
      ]
     },
     "execution_count": 22,
     "metadata": {},
     "output_type": "execute_result"
    }
   ],
   "source": [
    "data"
   ]
  },
  {
   "cell_type": "code",
   "execution_count": 23,
   "metadata": {},
   "outputs": [],
   "source": [
    "data.columns = [\n",
    "'date',\n",
    "'date_epoch',\n",
    "'hour',\n",
    "'maxtemp_c',\n",
    "'maxtemp_f',\n",
    "'mintemp_c',\n",
    "'mintemp_f',\n",
    "'avgtemp_c',\n",
    "'avgtemp_f',\n",
    "'maxwind_mph',\n",
    "'maxwind_kph',\n",
    "'totalprecip_mm',\n",
    "'totalprecip_in',\n",
    "'totalsnow_cm',\n",
    "'avgvis_km',\n",
    "'avgvis_miles',\n",
    "'avghumidity',\n",
    "'daily_will_it_rain',\n",
    "'daily_chance_of_rain',\n",
    "'daily_will_it_snow',\n",
    "'daily_chance_of_snow',\n",
    "'condition_text',\n",
    "'condition_icon',\n",
    "'condition_code',\n",
    "'uv',\n",
    "'sunrise',\n",
    "'sunset',\n",
    "'moonrise',\n",
    "'moonset',\n",
    "'moon_phase',\n",
    "'moon_illumination',\n",
    "]"
   ]
  },
  {
   "cell_type": "code",
   "execution_count": 26,
   "metadata": {},
   "outputs": [],
   "source": [
    "data.iloc[0, 2] = 8"
   ]
  },
  {
   "cell_type": "code",
   "execution_count": 27,
   "metadata": {},
   "outputs": [
    {
     "data": {
      "text/html": [
       "<div>\n",
       "<style scoped>\n",
       "    .dataframe tbody tr th:only-of-type {\n",
       "        vertical-align: middle;\n",
       "    }\n",
       "\n",
       "    .dataframe tbody tr th {\n",
       "        vertical-align: top;\n",
       "    }\n",
       "\n",
       "    .dataframe thead th {\n",
       "        text-align: right;\n",
       "    }\n",
       "</style>\n",
       "<table border=\"1\" class=\"dataframe\">\n",
       "  <thead>\n",
       "    <tr style=\"text-align: right;\">\n",
       "      <th></th>\n",
       "      <th>date</th>\n",
       "      <th>date_epoch</th>\n",
       "      <th>hour</th>\n",
       "      <th>maxtemp_c</th>\n",
       "      <th>maxtemp_f</th>\n",
       "      <th>mintemp_c</th>\n",
       "      <th>mintemp_f</th>\n",
       "      <th>avgtemp_c</th>\n",
       "      <th>avgtemp_f</th>\n",
       "      <th>maxwind_mph</th>\n",
       "      <th>...</th>\n",
       "      <th>condition_text</th>\n",
       "      <th>condition_icon</th>\n",
       "      <th>condition_code</th>\n",
       "      <th>uv</th>\n",
       "      <th>sunrise</th>\n",
       "      <th>sunset</th>\n",
       "      <th>moonrise</th>\n",
       "      <th>moonset</th>\n",
       "      <th>moon_phase</th>\n",
       "      <th>moon_illumination</th>\n",
       "    </tr>\n",
       "  </thead>\n",
       "  <tbody>\n",
       "    <tr>\n",
       "      <th>0</th>\n",
       "      <td>2025-02-24</td>\n",
       "      <td>1740355200</td>\n",
       "      <td>8</td>\n",
       "      <td>24.8</td>\n",
       "      <td>76.6</td>\n",
       "      <td>19.6</td>\n",
       "      <td>67.4</td>\n",
       "      <td>22.0</td>\n",
       "      <td>71.7</td>\n",
       "      <td>12.8</td>\n",
       "      <td>...</td>\n",
       "      <td>Sunny</td>\n",
       "      <td>//cdn.weatherapi.com/weather/64x64/day/113.png</td>\n",
       "      <td>1000</td>\n",
       "      <td>9.0</td>\n",
       "      <td>06:02 AM</td>\n",
       "      <td>06:57 PM</td>\n",
       "      <td>01:29 AM</td>\n",
       "      <td>04:34 PM</td>\n",
       "      <td>Waning Crescent</td>\n",
       "      <td>22</td>\n",
       "    </tr>\n",
       "  </tbody>\n",
       "</table>\n",
       "<p>1 rows × 31 columns</p>\n",
       "</div>"
      ],
      "text/plain": [
       "         date  date_epoch hour  maxtemp_c  maxtemp_f  mintemp_c  mintemp_f  \\\n",
       "0  2025-02-24  1740355200    8       24.8       76.6       19.6       67.4   \n",
       "\n",
       "   avgtemp_c  avgtemp_f  maxwind_mph  ...  condition_text  \\\n",
       "0       22.0       71.7         12.8  ...           Sunny   \n",
       "\n",
       "                                   condition_icon  condition_code   uv  \\\n",
       "0  //cdn.weatherapi.com/weather/64x64/day/113.png            1000  9.0   \n",
       "\n",
       "    sunrise    sunset  moonrise   moonset       moon_phase  moon_illumination  \n",
       "0  06:02 AM  06:57 PM  01:29 AM  04:34 PM  Waning Crescent                 22  \n",
       "\n",
       "[1 rows x 31 columns]"
      ]
     },
     "execution_count": 27,
     "metadata": {},
     "output_type": "execute_result"
    }
   ],
   "source": [
    "data"
   ]
  },
  {
   "cell_type": "markdown",
   "metadata": {},
   "source": [
    "<!-- Make sure the data is in the correct format etc. -->"
   ]
  },
  {
   "cell_type": "code",
   "execution_count": 39,
   "metadata": {},
   "outputs": [],
   "source": [
    "connection = \"Server=joshwork\\\\MSSQLSERVER02;Database=db1;user=sa;password=password1;Trusted_Connection=True;TrustServerCertificate=True\"\n",
    "\n",
    "\n",
    "connection_string = \"mssql+pyodbc://@joshwork\\\\MSSQLSERVER02/db1?driver=ODBC+Driver+17+for+SQL+Server&Trusted_Connection=yes&TrustServerCertificate=yes\"\n",
    "\n"
   ]
  },
  {
   "cell_type": "code",
   "execution_count": 67,
   "metadata": {},
   "outputs": [],
   "source": [
    "theDate = dt.date(year, theday.month, theday.day)"
   ]
  },
  {
   "cell_type": "code",
   "execution_count": 63,
   "metadata": {},
   "outputs": [
    {
     "data": {
      "text/plain": [
       "datetime.date(2025, 2, 24)"
      ]
     },
     "execution_count": 63,
     "metadata": {},
     "output_type": "execute_result"
    }
   ],
   "source": [
    "theday"
   ]
  },
  {
   "cell_type": "code",
   "execution_count": 68,
   "metadata": {},
   "outputs": [],
   "source": [
    "data.iloc[0,0] = theDate"
   ]
  },
  {
   "cell_type": "markdown",
   "metadata": {},
   "source": [
    "Mostly finished - just need to work out how to get the datatype to map correctly to SQL Date, if this fails may need to do SQL command generation as I have done previously"
   ]
  },
  {
   "cell_type": "code",
   "execution_count": 70,
   "metadata": {},
   "outputs": [
    {
     "data": {
      "text/plain": [
       "1"
      ]
     },
     "execution_count": 70,
     "metadata": {},
     "output_type": "execute_result"
    }
   ],
   "source": [
    "data.to_sql( \n",
    "    name=\"WeatherDataModelsTest\",\n",
    "    con=connection_string, \n",
    "    if_exists=\"append\",\n",
    "    index=False,\n",
    "    # index_label=\"Id\"\n",
    "    )"
   ]
  }
 ],
 "metadata": {
  "kernelspec": {
   "display_name": "Python 3",
   "language": "python",
   "name": "python3"
  },
  "language_info": {
   "codemirror_mode": {
    "name": "ipython",
    "version": 3
   },
   "file_extension": ".py",
   "mimetype": "text/x-python",
   "name": "python",
   "nbconvert_exporter": "python",
   "pygments_lexer": "ipython3",
   "version": "3.11.5"
  }
 },
 "nbformat": 4,
 "nbformat_minor": 2
}
