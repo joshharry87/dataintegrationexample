{
 "cells": [
  {
   "cell_type": "markdown",
   "metadata": {},
   "source": [
    "# Notebook for developing python and testing"
   ]
  },
  {
   "cell_type": "code",
   "execution_count": 158,
   "metadata": {},
   "outputs": [],
   "source": [
    "import requests as r\n",
    "import pandas as pd\n",
    "import datetime as dt\n",
    "from sqlalchemy import DateTime\n",
    "\n"
   ]
  },
  {
   "cell_type": "code",
   "execution_count": 159,
   "metadata": {},
   "outputs": [],
   "source": [
    "\n",
    "\n",
    "def get_yesterday():\n",
    "    \"\"\"\n",
    "        Get yesterdays date as a string\n",
    "    \"\"\"\n",
    "    months = ['Jan', 'Feb', 'Mar', 'Apr', 'May', 'Jun', 'Jul', 'Aug', 'Sep', 'Oct', 'Nov', 'Dec']\n",
    "    \n",
    "    theday = dt.date.today() - dt.timedelta(days=1)\n",
    "    day =  theday.day\n",
    "    month = months[theday.month-1]\n",
    "\n",
    "    year = theday.year\n",
    "    if day < 10:\n",
    "        day = f\"0{str(day)}\"\n",
    "        \n",
    "    return  f\"{year}-{month}-{day}\"\n",
    "\n",
    "\n",
    "def get_yesterday_url():\n",
    "    date_ref = get_yesterday()\n",
    "    return f\"https://api.weatherapi.com/v1/history.json?q=Perth&dt={date_ref}&end_dt={date_ref}&hour=8&key=96792ecea70641218aa32831252402\"\n"
   ]
  },
  {
   "cell_type": "code",
   "execution_count": 160,
   "metadata": {},
   "outputs": [],
   "source": [
    "response = r.get(url=get_yesterday_url())\n",
    "data_dict = json.loads(response.content)\n",
    "del response\n",
    "\n",
    "data = pd.json_normalize(data_dict['forecast']['forecastday'])\n",
    "\n",
    "\n"
   ]
  },
  {
   "cell_type": "code",
   "execution_count": 162,
   "metadata": {},
   "outputs": [],
   "source": [
    "#  this should be defined somewhere: \n",
    "data.columns = [\n",
    "'date',\n",
    "'date_epoch',\n",
    "'hour',\n",
    "'maxtemp_c',\n",
    "'maxtemp_f',\n",
    "'mintemp_c',\n",
    "'mintemp_f',\n",
    "'avgtemp_c',\n",
    "'avgtemp_f',\n",
    "'maxwind_mph',\n",
    "'maxwind_kph',\n",
    "'totalprecip_mm',\n",
    "'totalprecip_in',\n",
    "'totalsnow_cm',\n",
    "'avgvis_km',\n",
    "'avgvis_miles',\n",
    "'avghumidity',\n",
    "'daily_will_it_rain',\n",
    "'daily_chance_of_rain',\n",
    "'daily_will_it_snow',\n",
    "'daily_chance_of_snow',\n",
    "'condition_text',\n",
    "'condition_icon',\n",
    "'condition_code',\n",
    "'uv',\n",
    "'sunrise',\n",
    "'sunset',\n",
    "'moonrise',\n",
    "'moonset',\n",
    "'moon_phase',\n",
    "'moon_illumination',\n",
    "]"
   ]
  },
  {
   "cell_type": "code",
   "execution_count": 163,
   "metadata": {},
   "outputs": [],
   "source": [
    "data.iloc[0, 2] = 8"
   ]
  },
  {
   "cell_type": "code",
   "execution_count": 164,
   "metadata": {},
   "outputs": [
    {
     "data": {
      "text/html": [
       "<div>\n",
       "<style scoped>\n",
       "    .dataframe tbody tr th:only-of-type {\n",
       "        vertical-align: middle;\n",
       "    }\n",
       "\n",
       "    .dataframe tbody tr th {\n",
       "        vertical-align: top;\n",
       "    }\n",
       "\n",
       "    .dataframe thead th {\n",
       "        text-align: right;\n",
       "    }\n",
       "</style>\n",
       "<table border=\"1\" class=\"dataframe\">\n",
       "  <thead>\n",
       "    <tr style=\"text-align: right;\">\n",
       "      <th></th>\n",
       "      <th>date</th>\n",
       "      <th>date_epoch</th>\n",
       "      <th>hour</th>\n",
       "      <th>maxtemp_c</th>\n",
       "      <th>maxtemp_f</th>\n",
       "      <th>mintemp_c</th>\n",
       "      <th>mintemp_f</th>\n",
       "      <th>avgtemp_c</th>\n",
       "      <th>avgtemp_f</th>\n",
       "      <th>maxwind_mph</th>\n",
       "      <th>...</th>\n",
       "      <th>condition_text</th>\n",
       "      <th>condition_icon</th>\n",
       "      <th>condition_code</th>\n",
       "      <th>uv</th>\n",
       "      <th>sunrise</th>\n",
       "      <th>sunset</th>\n",
       "      <th>moonrise</th>\n",
       "      <th>moonset</th>\n",
       "      <th>moon_phase</th>\n",
       "      <th>moon_illumination</th>\n",
       "    </tr>\n",
       "  </thead>\n",
       "  <tbody>\n",
       "    <tr>\n",
       "      <th>0</th>\n",
       "      <td>2025-02-27</td>\n",
       "      <td>1740614400</td>\n",
       "      <td>8</td>\n",
       "      <td>24.7</td>\n",
       "      <td>76.5</td>\n",
       "      <td>20.5</td>\n",
       "      <td>68.9</td>\n",
       "      <td>22.3</td>\n",
       "      <td>72.1</td>\n",
       "      <td>15.4</td>\n",
       "      <td>...</td>\n",
       "      <td>Partly cloudy</td>\n",
       "      <td>//cdn.weatherapi.com/weather/64x64/day/116.png</td>\n",
       "      <td>1003</td>\n",
       "      <td>9.0</td>\n",
       "      <td>06:04 AM</td>\n",
       "      <td>06:54 PM</td>\n",
       "      <td>04:51 AM</td>\n",
       "      <td>06:35 PM</td>\n",
       "      <td>Waning Crescent</td>\n",
       "      <td>3</td>\n",
       "    </tr>\n",
       "  </tbody>\n",
       "</table>\n",
       "<p>1 rows × 31 columns</p>\n",
       "</div>"
      ],
      "text/plain": [
       "         date  date_epoch hour  maxtemp_c  maxtemp_f  mintemp_c  mintemp_f  \\\n",
       "0  2025-02-27  1740614400    8       24.7       76.5       20.5       68.9   \n",
       "\n",
       "   avgtemp_c  avgtemp_f  maxwind_mph  ...  condition_text  \\\n",
       "0       22.3       72.1         15.4  ...   Partly cloudy   \n",
       "\n",
       "                                   condition_icon  condition_code   uv  \\\n",
       "0  //cdn.weatherapi.com/weather/64x64/day/116.png            1003  9.0   \n",
       "\n",
       "    sunrise    sunset  moonrise   moonset       moon_phase  moon_illumination  \n",
       "0  06:04 AM  06:54 PM  04:51 AM  06:35 PM  Waning Crescent                  3  \n",
       "\n",
       "[1 rows x 31 columns]"
      ]
     },
     "execution_count": 164,
     "metadata": {},
     "output_type": "execute_result"
    }
   ],
   "source": [
    "data"
   ]
  },
  {
   "cell_type": "code",
   "execution_count": 165,
   "metadata": {},
   "outputs": [],
   "source": [
    "connection = \"Server=joshwork\\\\MSSQLSERVER02;Database=db1;user=sa;password=password1;Trusted_Connection=True;TrustServerCertificate=True\"\n",
    "\n",
    "\n",
    "connection_string = \"mssql+pyodbc://@joshwork\\\\MSSQLSERVER02/db1?driver=ODBC+Driver+17+for+SQL+Server&Trusted_Connection=yes&TrustServerCertificate=yes\"\n",
    "\n"
   ]
  },
  {
   "cell_type": "code",
   "execution_count": 174,
   "metadata": {},
   "outputs": [],
   "source": [
    "data.iloc[0,0] = dt.datetime.today() - dt.timedelta(days=1)"
   ]
  },
  {
   "cell_type": "code",
   "execution_count": 168,
   "metadata": {},
   "outputs": [],
   "source": [
    "\n",
    "def clean_string_times(timestring):\n",
    "    \"\"\"\n",
    "        Returns hundred hour int of a time string\n",
    "\n",
    "    Args:\n",
    "        timestring (string): string in formate '00:00 AM/PM'\n",
    "\n",
    "    Returns:\n",
    "        int: 100 hour int of time string, if incorrect format will return 0, needs logging.\n",
    "    \"\"\"\n",
    "    try:\n",
    "        time = timestring.split(\" \")[0]\n",
    "    except:\n",
    "        return 0\n",
    "    if timestring.split(\" \")[1][0].lower() == \"p\": # case sensitivity removed\n",
    "        return (  ((int(time.split(\":\")[0])+ 12)*100)   + int(time.split(\":\")[1])) \n",
    "    else:\n",
    "        return (  ((int(time.split(\":\")[0]))*100)   + int(time.split(\":\")[1])) \n",
    "\n",
    "\n",
    "\n",
    "x = 25\n",
    "for val in data.iloc[0,25:-2]:\n",
    "    data.iloc[0, x] =   clean_string_times(val)\n",
    "    x +=1\n",
    " "
   ]
  },
  {
   "cell_type": "code",
   "execution_count": 175,
   "metadata": {},
   "outputs": [
    {
     "data": {
      "text/html": [
       "<div>\n",
       "<style scoped>\n",
       "    .dataframe tbody tr th:only-of-type {\n",
       "        vertical-align: middle;\n",
       "    }\n",
       "\n",
       "    .dataframe tbody tr th {\n",
       "        vertical-align: top;\n",
       "    }\n",
       "\n",
       "    .dataframe thead th {\n",
       "        text-align: right;\n",
       "    }\n",
       "</style>\n",
       "<table border=\"1\" class=\"dataframe\">\n",
       "  <thead>\n",
       "    <tr style=\"text-align: right;\">\n",
       "      <th></th>\n",
       "      <th>date</th>\n",
       "      <th>date_epoch</th>\n",
       "      <th>hour</th>\n",
       "      <th>maxtemp_c</th>\n",
       "      <th>maxtemp_f</th>\n",
       "      <th>mintemp_c</th>\n",
       "      <th>mintemp_f</th>\n",
       "      <th>avgtemp_c</th>\n",
       "      <th>avgtemp_f</th>\n",
       "      <th>maxwind_mph</th>\n",
       "      <th>...</th>\n",
       "      <th>condition_text</th>\n",
       "      <th>condition_icon</th>\n",
       "      <th>condition_code</th>\n",
       "      <th>uv</th>\n",
       "      <th>sunrise</th>\n",
       "      <th>sunset</th>\n",
       "      <th>moonrise</th>\n",
       "      <th>moonset</th>\n",
       "      <th>moon_phase</th>\n",
       "      <th>moon_illumination</th>\n",
       "    </tr>\n",
       "  </thead>\n",
       "  <tbody>\n",
       "    <tr>\n",
       "      <th>0</th>\n",
       "      <td>2025-02-27 12:24:47.227284</td>\n",
       "      <td>1740614400</td>\n",
       "      <td>8</td>\n",
       "      <td>24.7</td>\n",
       "      <td>76.5</td>\n",
       "      <td>20.5</td>\n",
       "      <td>68.9</td>\n",
       "      <td>22.3</td>\n",
       "      <td>72.1</td>\n",
       "      <td>15.4</td>\n",
       "      <td>...</td>\n",
       "      <td>Partly cloudy</td>\n",
       "      <td>//cdn.weatherapi.com/weather/64x64/day/116.png</td>\n",
       "      <td>1003</td>\n",
       "      <td>9.0</td>\n",
       "      <td>604</td>\n",
       "      <td>1854</td>\n",
       "      <td>451</td>\n",
       "      <td>1835</td>\n",
       "      <td>Waning Crescent</td>\n",
       "      <td>3</td>\n",
       "    </tr>\n",
       "  </tbody>\n",
       "</table>\n",
       "<p>1 rows × 31 columns</p>\n",
       "</div>"
      ],
      "text/plain": [
       "                         date  date_epoch hour  maxtemp_c  maxtemp_f  \\\n",
       "0  2025-02-27 12:24:47.227284  1740614400    8       24.7       76.5   \n",
       "\n",
       "   mintemp_c  mintemp_f  avgtemp_c  avgtemp_f  maxwind_mph  ...  \\\n",
       "0       20.5       68.9       22.3       72.1         15.4  ...   \n",
       "\n",
       "   condition_text                                  condition_icon  \\\n",
       "0   Partly cloudy  //cdn.weatherapi.com/weather/64x64/day/116.png   \n",
       "\n",
       "   condition_code   uv  sunrise  sunset  moonrise  moonset       moon_phase  \\\n",
       "0            1003  9.0      604    1854       451     1835  Waning Crescent   \n",
       "\n",
       "   moon_illumination  \n",
       "0                  3  \n",
       "\n",
       "[1 rows x 31 columns]"
      ]
     },
     "execution_count": 175,
     "metadata": {},
     "output_type": "execute_result"
    }
   ],
   "source": [
    "data "
   ]
  },
  {
   "cell_type": "code",
   "execution_count": 176,
   "metadata": {},
   "outputs": [
    {
     "data": {
      "text/plain": [
       "1"
      ]
     },
     "execution_count": 176,
     "metadata": {},
     "output_type": "execute_result"
    }
   ],
   "source": [
    "data.to_sql( \n",
    "    name=\"WeatherDataModels\",\n",
    "    con=connection_string, \n",
    "    if_exists=\"append\",\n",
    "    index=False,\n",
    "    dtype={'date' : DateTime()}\n",
    "    )"
   ]
  }
 ],
 "metadata": {
  "kernelspec": {
   "display_name": "Python 3",
   "language": "python",
   "name": "python3"
  },
  "language_info": {
   "codemirror_mode": {
    "name": "ipython",
    "version": 3
   },
   "file_extension": ".py",
   "mimetype": "text/x-python",
   "name": "python",
   "nbconvert_exporter": "python",
   "pygments_lexer": "ipython3",
   "version": "3.11.5"
  }
 },
 "nbformat": 4,
 "nbformat_minor": 2
}
